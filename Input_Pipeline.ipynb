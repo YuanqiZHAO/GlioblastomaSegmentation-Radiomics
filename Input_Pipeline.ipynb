{
 "cells": [
  {
   "cell_type": "code",
   "execution_count": 34,
   "metadata": {},
   "outputs": [
    {
     "name": "stdout",
     "output_type": "stream",
     "text": [
      "Requirement already satisfied: SimpleITK in /Users/yuanqizhao/opt/anaconda3/lib/python3.7/site-packages (2.0.1)\n",
      "Note: you may need to restart the kernel to use updated packages.\n"
     ]
    }
   ],
   "source": [
    "pip install SimpleITK"
   ]
  },
  {
   "cell_type": "code",
   "execution_count": 35,
   "metadata": {},
   "outputs": [],
   "source": [
    "import SimpleITK as sitk\n",
    "import numpy as np\n",
    "import os\n",
    "import sys\n",
    "import shutil\n",
    "from glob import glob\n",
    "from collections import OrderedDict\n",
    "import json"
   ]
  },
  {
   "cell_type": "code",
   "execution_count": 36,
   "metadata": {},
   "outputs": [],
   "source": [
    "def copy_BraTS_segmentation_and_convert_labels(in_file, out_file):\n",
    "    # use this for segmentation only!!!\n",
    "    # nnUNet wants the labels to be continuous. BraTS is 0, 1, 2, 4 -> we make that into 0, 1, 2, 3\n",
    "#   \"0-background\"\n",
    "#   \"1-non-enhancing\"\n",
    "#   \"2-edema\"\n",
    "#   \"3-enhancing\"\n",
    "    \n",
    "    \n",
    "    img = sitk.ReadImage(in_file)\n",
    "    img_npy = sitk.GetArrayFromImage(img)\n",
    "\n",
    "    uniques = np.unique(img_npy)\n",
    "    for u in uniques:\n",
    "        if u not in [0, 1, 2, 4]:\n",
    "            raise RuntimeError('unexpected label')\n",
    "            \n",
    "    seg_new = np.zeros_like(img_npy)\n",
    "    seg_new[img_npy == 4] = 3\n",
    "    img_corr = sitk.GetImageFromArray(seg_new)\n",
    "    img_corr.CopyInformation(img)\n",
    "    sitk.WriteImage(img_corr, out_file)"
   ]
  },
  {
   "cell_type": "code",
   "execution_count": 46,
   "metadata": {},
   "outputs": [],
   "source": [
    "# input: full path of user_dir and download_dir using pwd\n",
    "def organize_data(user_dir, download_dir):\n",
    "    task_name = 'Task100_Glioblastoma'\n",
    "    data_dir = 'nnUNet/nnUNet_raw_data_base/nnUNet_raw_data'\n",
    "    data_dir = os.path.join(user_dir,data_dir)\n",
    "    data_dir = os.path.join(data_dir,task_name)\n",
    "    train_data_name = os.path.join(data_dir,'imagesTr')\n",
    "    train_label_name = os.path.join(data_dir, 'labelsTr')\n",
    "    test_data_name = os.path.join(data_dir,'imagesTs')\n",
    "    \n",
    "\n",
    "    if not os.path.isdir(os.path.join(user_dir, 'nnUNet')):\n",
    "        raise RuntimeError('Model has not been downloaded.')\n",
    "  \n",
    "    os.makedirs(train_data_name, exist_ok=True)\n",
    "    os.makedirs(train_label_name, exist_ok=True)\n",
    "    os.makedirs(test_data_name, exist_ok=True)\n",
    "    \n",
    "    patients_names = os.listdir(download_dir)\n",
    "    patients_names =[sample for sample in patients_names if not sample.endswith('.csv')]\n",
    "    \n",
    "    ### Due to resource limitation, we choose 15 patients to test our model first \n",
    "    patients = ['data/TCGA-02-0033', 'data/TCGA-02-0009', 'data/TCGA-02-0027', 'data/TCGA-02-0011', 'data/TCGA-02-0006', 'data/TCGA-02-0064', 'data/TCGA-02-0069', 'data/TCGA-02-0068', 'data/TCGA-02-0034', 'data/TCGA-02-0047', 'data/TCGA-02-0046', 'data/TCGA-02-0037', 'data/TCGA-02-0059', 'data/TCGA-02-0054', 'data/TCGA-06-0122']\n",
    "    patients_15 = [i.split('/')[-1] for i in patients]\n",
    "    patients_names = [x for x in patients_names if x not in patients_15]\n",
    "    \n",
    "    \n",
    "    ### split into train and test\n",
    "    train_per = 1\n",
    "    train_idx = int(len(patients_names)*train_per)\n",
    "    nolabel_patient = []\n",
    "    no_enough_modalities = []\n",
    "    for i in range(len(patients_names)):\n",
    "        directory = os.path.join(download_dir,patients_names[i])\n",
    "        \n",
    "        t1_path=glob(os.path.join(directory,'*t1.nii.gz'))\n",
    "        t2_path=glob(os.path.join(directory,'*t2.nii.gz'))\n",
    "        flair_path=glob(os.path.join(directory,'*flair.nii.gz'))\n",
    "        t1_gd = glob(os.path.join(directory,'*t1Gd.nii.gz'))\n",
    "        \n",
    "        label_path=glob(os.path.join(directory,'*GlistrBoost_ManuallyCorrected.nii.gz'))\n",
    "        \n",
    "        if len(label_path)<1:\n",
    "            nolabel_patient.append(patients_names[i])\n",
    "            continue\n",
    "        \n",
    "        label_path = label_path[0]\n",
    "        flag = len(t1_path)+len(t2_path)+len(flair_path)+len(t1_gd)\n",
    "        if flag<4:\n",
    "            no_enough_modalities.append(patients_names[i])\n",
    "            continue\n",
    "        \n",
    "        if i<= train_idx:\n",
    "            shutil.copy(flair_path[0],os.path.join(train_data_name,patients_names[i]+'_0000.nii.gz'))\n",
    "            shutil.copy(t1_path[0],os.path.join(train_data_name,patients_names[i]+'_0001.nii.gz'))\n",
    "            shutil.copy(t1_gd[0],os.path.join(train_data_name,patients_names[i]+'_0002.nii.gz'))\n",
    "            shutil.copy(t2_path[0],os.path.join(train_data_name,patients_names[i]+'_0003.nii.gz'))\n",
    "        \n",
    "        else:\n",
    "            shutil.copy(flair_path[0],os.path.join(test_data_name,patients_names[i]+'_0000.nii.gz'))\n",
    "            shutil.copy(t1_path[0],os.path.join(test_data_name,patients_names[i]+'_0001.nii.gz'))\n",
    "            shutil.copy(t1_gd[0],os.path.join(test_data_name,patients_names[i]+'_0002.nii.gz'))\n",
    "            shutil.copy(t2_path[0],os.path.join(test_data_name,patients_names[i]+'_0003.nii.gz'))\n",
    "            \n",
    "        \n",
    "#         print(label_path)\n",
    "        copy_BraTS_segmentation_and_convert_labels(label_path, os.path.join(train_label_name,patients_names[i]+'.nii.gz'))\n",
    "\n",
    "    \n",
    "    \n",
    "    patients_names =  [x for x in patients_names if x not in nolabel_patient]  \n",
    "    print(len(patients_names))\n",
    "    #### Create json file to save metadata\n",
    "    json_dict = OrderedDict()\n",
    "    json_dict['name'] = \"TCGA-GBM\"\n",
    "    json_dict['description'] = \"nothing\"\n",
    "    json_dict['tensorImageSize'] = \"3D\"\n",
    "    json_dict['reference'] = \"see TCGA-GBM\"\n",
    "    json_dict['licence'] = \"see TCGA-GBM license\"\n",
    "    json_dict['release'] = \"Version 1 (Current): 2017/07/17\"\n",
    "    json_dict['modality'] = {\n",
    "        \"0\": \"FLAIR\",\n",
    "        \"1\": \"T1\",\n",
    "        \"2\": \"T1Gd\",   \n",
    "        \"3\": \"T2\"\n",
    "    }\n",
    "    json_dict['labels'] = {\n",
    "        \"0\": \"background\",\n",
    "        \"1\": \"non-enhancing\",\n",
    "        \"2\": \"edema\",\n",
    "        \"3\": \"enhancing\",\n",
    "    }\n",
    "    json_dict['numTraining'] = len(patients_names)\n",
    "    json_dict['numTest'] = len(patients_names)-train_idx\n",
    "    json_dict['training'] = [{'image': \"./imagesTr/%s.nii.gz\" % i, \"label\": \"./labelsTr/%s.nii.gz\" % i} for i in patients_names[:train_idx+1]]\n",
    "    json_dict['test'] = [\"./imagesTs/%s.nii.gz\" % i for i in patients_names[train_idx+1:]]\n",
    "    \n",
    "    json_p = os.path.join(data_dir,'dataset.json')\n",
    "    with open(json_p, 'w', encoding='utf-8') as f:\n",
    "        json.dump(json_dict, f, ensure_ascii=False, indent=4)\n",
    "    \n",
    "    return no_enough_modalities, nolabel_patient\n",
    "            "
   ]
  },
  {
   "cell_type": "code",
   "execution_count": 44,
   "metadata": {},
   "outputs": [],
   "source": [
    "def other_folders(user_dir):\n",
    "    user_dir = os.path.join(user_dir,'nnUNet')\n",
    "    preprocessed = os.path.join(user_dir,'nnUNet_preprocessed')\n",
    "    output = os.path.join(user_dir, 'RESULTS_FOLDER') \n",
    "    \n",
    "    os.makedirs(preprocessed, exist_ok=True)\n",
    "    os.makedirs(output, exist_ok=True)"
   ]
  },
  {
   "cell_type": "code",
   "execution_count": 48,
   "metadata": {},
   "outputs": [
    {
     "name": "stdout",
     "output_type": "stream",
     "text": [
      "82\n",
      "modality []\n",
      "label ['TCGA-12-3650', '.DS_Store', 'TCGA-08-0509', 'TCGA-06-0238', 'TCGA-02-0070', 'TCGA-08-0520']\n"
     ]
    }
   ],
   "source": [
    "if __name__ == '__main__':\n",
    "#     download_dir = sys.args[1]\n",
    "    user_dir = '/Users/yuanqizhao/Desktop/Bioimage_Project'\n",
    "    download_dir = '/Users/yuanqizhao/Desktop/Bioimage_Project/Pre-operative_TCGA_GBM_NIfTI_and_Segmentations'\n",
    "    \n",
    "    no_enough_modalities, nolabel_patient = organize_data(user_dir, download_dir)\n",
    "    print('modality', no_enough_modalities)\n",
    "    print('label', nolabel_patient)\n",
    "    other_folders(user_dir)"
   ]
  },
  {
   "cell_type": "markdown",
   "metadata": {},
   "source": [
    "Train = 87\n",
    "Test = 10\n",
    "label = 97\n",
    "reference https://github.com/MIC-DKFZ/nnUNet/blob/master/nnunet/dataset_conversion/Task043_BraTS_2019.py"
   ]
  }
 ],
 "metadata": {
  "kernelspec": {
   "display_name": "Python 3",
   "language": "python",
   "name": "python3"
  },
  "language_info": {
   "codemirror_mode": {
    "name": "ipython",
    "version": 3
   },
   "file_extension": ".py",
   "mimetype": "text/x-python",
   "name": "python",
   "nbconvert_exporter": "python",
   "pygments_lexer": "ipython3",
   "version": "3.7.4"
  }
 },
 "nbformat": 4,
 "nbformat_minor": 4
}
